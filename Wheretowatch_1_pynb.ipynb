{
  "nbformat": 4,
  "nbformat_minor": 0,
  "metadata": {
    "colab": {
      "name": "Wheretowatch 1.pynb",
      "provenance": [],
      "authorship_tag": "ABX9TyM+mup1JcqTzGRXNURvRjAn",
      "include_colab_link": true
    },
    "kernelspec": {
      "name": "python3",
      "display_name": "Python 3"
    },
    "language_info": {
      "name": "python"
    }
  },
  "cells": [
    {
      "cell_type": "markdown",
      "metadata": {
        "id": "view-in-github",
        "colab_type": "text"
      },
      "source": [
        "<a href=\"https://colab.research.google.com/github/carlotagifre/Wheretowatch/blob/main/Wheretowatch_1_pynb.ipynb\" target=\"_parent\"><img src=\"https://colab.research.google.com/assets/colab-badge.svg\" alt=\"Open In Colab\"/></a>"
      ]
    },
    {
      "cell_type": "code",
      "metadata": {
        "id": "Kz2cwF4p6Mml"
      },
      "source": [
        "import pandas as pd\n",
        "import numpy as np\n",
        "import matplotlib.pyplot as plt\n",
        "\n"
      ],
      "execution_count": 13,
      "outputs": []
    },
    {
      "cell_type": "code",
      "metadata": {
        "colab": {
          "base_uri": "https://localhost:8080/",
          "height": 285
        },
        "id": "xo2n8tsB-Mz1",
        "outputId": "74cdac66-d450-4f56-8736-8a56c4c6efc9"
      },
      "source": [
        "imdb_df=pd.read_csv('/content/IMDb movies.csv')\n",
        "#dropped unrelated columns & unimportant columns with a lot of missing values(writer,director)\n",
        "imdb_df.drop(['budget','usa_gross_income','metascore','worlwide_gross_income','production_company','reviews_from_users','reviews_from_critics','writer','director','imdb_title_id','date_published','original_title'],axis=1,inplace=True)\n",
        "#dropped all missing values from these columns so there's no missing values\n",
        "imdb_df.dropna(subset=['description','language','country','actors'],inplace=True)\n",
        "imdb_df=imdb_df[imdb_df[\"language\"].str.contains(\"None\")==False]\n",
        "imdb_df=imdb_df.astype({'title': 'object', 'year': 'int64', 'genre':'object','duration':'int64','country':'object','language':'object','actors':'object'\n",
        ",'description':'object','avg_vote':'float64','votes':'int64'})\n",
        "\n"
      ],
      "execution_count": 15,
      "outputs": [
        {
          "output_type": "execute_result",
          "data": {
            "text/html": [
              "<div>\n",
              "<style scoped>\n",
              "    .dataframe tbody tr th:only-of-type {\n",
              "        vertical-align: middle;\n",
              "    }\n",
              "\n",
              "    .dataframe tbody tr th {\n",
              "        vertical-align: top;\n",
              "    }\n",
              "\n",
              "    .dataframe thead th {\n",
              "        text-align: right;\n",
              "    }\n",
              "</style>\n",
              "<table border=\"1\" class=\"dataframe\">\n",
              "  <thead>\n",
              "    <tr style=\"text-align: right;\">\n",
              "      <th></th>\n",
              "      <th>title</th>\n",
              "      <th>year</th>\n",
              "      <th>genre</th>\n",
              "      <th>duration</th>\n",
              "      <th>country</th>\n",
              "      <th>language</th>\n",
              "      <th>actors</th>\n",
              "      <th>description</th>\n",
              "      <th>avg_vote</th>\n",
              "      <th>votes</th>\n",
              "    </tr>\n",
              "  </thead>\n",
              "  <tbody>\n",
              "    <tr>\n",
              "      <th>3</th>\n",
              "      <td>Cleopatra</td>\n",
              "      <td>1912</td>\n",
              "      <td>Drama, History</td>\n",
              "      <td>100</td>\n",
              "      <td>USA</td>\n",
              "      <td>English</td>\n",
              "      <td>Helen Gardner, Pearl Sindelar, Miss Fielding, ...</td>\n",
              "      <td>The fabled queen of Egypt's affair with Roman ...</td>\n",
              "      <td>5.2</td>\n",
              "      <td>446</td>\n",
              "    </tr>\n",
              "    <tr>\n",
              "      <th>4</th>\n",
              "      <td>L'Inferno</td>\n",
              "      <td>1911</td>\n",
              "      <td>Adventure, Drama, Fantasy</td>\n",
              "      <td>68</td>\n",
              "      <td>Italy</td>\n",
              "      <td>Italian</td>\n",
              "      <td>Salvatore Papa, Arturo Pirovano, Giuseppe de L...</td>\n",
              "      <td>Loosely adapted from Dante's Divine Comedy and...</td>\n",
              "      <td>7.0</td>\n",
              "      <td>2237</td>\n",
              "    </tr>\n",
              "    <tr>\n",
              "      <th>5</th>\n",
              "      <td>From the Manger to the Cross; or, Jesus of Naz...</td>\n",
              "      <td>1912</td>\n",
              "      <td>Biography, Drama</td>\n",
              "      <td>60</td>\n",
              "      <td>USA</td>\n",
              "      <td>English</td>\n",
              "      <td>R. Henderson Bland, Percy Dyer, Gene Gauntier,...</td>\n",
              "      <td>An account of the life of Jesus Christ, based ...</td>\n",
              "      <td>5.7</td>\n",
              "      <td>484</td>\n",
              "    </tr>\n",
              "    <tr>\n",
              "      <th>6</th>\n",
              "      <td>Madame DuBarry</td>\n",
              "      <td>1919</td>\n",
              "      <td>Biography, Drama, Romance</td>\n",
              "      <td>85</td>\n",
              "      <td>Germany</td>\n",
              "      <td>German</td>\n",
              "      <td>Pola Negri, Emil Jannings, Harry Liedtke, Edua...</td>\n",
              "      <td>The story of Madame DuBarry, the mistress of L...</td>\n",
              "      <td>6.8</td>\n",
              "      <td>753</td>\n",
              "    </tr>\n",
              "    <tr>\n",
              "      <th>7</th>\n",
              "      <td>Quo Vadis?</td>\n",
              "      <td>1913</td>\n",
              "      <td>Drama, History</td>\n",
              "      <td>120</td>\n",
              "      <td>Italy</td>\n",
              "      <td>Italian</td>\n",
              "      <td>Amleto Novelli, Gustavo Serena, Carlo Cattaneo...</td>\n",
              "      <td>An epic Italian film \"Quo Vadis\" influenced ma...</td>\n",
              "      <td>6.2</td>\n",
              "      <td>273</td>\n",
              "    </tr>\n",
              "  </tbody>\n",
              "</table>\n",
              "</div>"
            ],
            "text/plain": [
              "                                               title  year  ... avg_vote  votes\n",
              "3                                          Cleopatra  1912  ...      5.2    446\n",
              "4                                          L'Inferno  1911  ...      7.0   2237\n",
              "5  From the Manger to the Cross; or, Jesus of Naz...  1912  ...      5.7    484\n",
              "6                                     Madame DuBarry  1919  ...      6.8    753\n",
              "7                                         Quo Vadis?  1913  ...      6.2    273\n",
              "\n",
              "[5 rows x 10 columns]"
            ]
          },
          "metadata": {
            "tags": []
          },
          "execution_count": 15
        }
      ]
    }
  ]
}