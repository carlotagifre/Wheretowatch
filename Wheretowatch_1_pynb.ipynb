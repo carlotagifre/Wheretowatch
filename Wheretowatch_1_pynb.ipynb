{
  "nbformat": 4,
  "nbformat_minor": 0,
  "metadata": {
    "colab": {
      "name": "Wheretowatch 1.pynb",
      "provenance": [],
      "authorship_tag": "ABX9TyM1CIEGMW3PmURhOEIxRjcZ",
      "include_colab_link": true
    },
    "kernelspec": {
      "name": "python3",
      "display_name": "Python 3"
    },
    "language_info": {
      "name": "python"
    }
  },
  "cells": [
    {
      "cell_type": "markdown",
      "metadata": {
        "id": "view-in-github",
        "colab_type": "text"
      },
      "source": [
        "<a href=\"https://colab.research.google.com/github/carlotagifre/Wheretowatch/blob/main/Wheretowatch_1_pynb.ipynb\" target=\"_parent\"><img src=\"https://colab.research.google.com/assets/colab-badge.svg\" alt=\"Open In Colab\"/></a>"
      ]
    },
    {
      "cell_type": "code",
      "metadata": {
        "id": "Kz2cwF4p6Mml"
      },
      "source": [
        "import pandas as pd\n",
        "import numpy as np\n",
        "import matplotlib.pyplot as plt\n",
        "\n"
      ],
      "execution_count": 2,
      "outputs": []
    },
    {
      "cell_type": "code",
      "metadata": {
        "colab": {
          "base_uri": "https://localhost:8080/"
        },
        "id": "xo2n8tsB-Mz1",
        "outputId": "977954d2-d0d5-4e15-e2a7-873dd85efef4"
      },
      "source": [
        "imdb_df=pd.read_csv('/content/IMDb movies.csv')\n",
        "#dropped unrelated columns & unimportant columns with a lot of missing values(writer,director)\n",
        "imdb_df.drop(['budget','usa_gross_income','metascore','worlwide_gross_income','production_company','reviews_from_users','reviews_from_critics','writer','director','imdb_title_id','date_published','original_title'],axis=1,inplace=True)\n",
        "#dropped all missing values from these columns so there's no missing values\n",
        "imdb_df.dropna(subset=['description','language','country','actors'],inplace=True)\n",
        "imdb_df=imdb_df[imdb_df[\"language\"].str.contains(\"None\")==False]\n"
      ],
      "execution_count": 10,
      "outputs": [
        {
          "output_type": "stream",
          "text": [
            "/usr/local/lib/python3.7/dist-packages/IPython/core/interactiveshell.py:2718: DtypeWarning: Columns (3) have mixed types.Specify dtype option on import or set low_memory=False.\n",
            "  interactivity=interactivity, compiler=compiler, result=result)\n"
          ],
          "name": "stderr"
        },
        {
          "output_type": "execute_result",
          "data": {
            "text/plain": [
              "0"
            ]
          },
          "metadata": {
            "tags": []
          },
          "execution_count": 10
        }
      ]
    }
  ]
}